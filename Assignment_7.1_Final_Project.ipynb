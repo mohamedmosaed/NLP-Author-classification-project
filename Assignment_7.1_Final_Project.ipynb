{
 "cells": [
  {
   "cell_type": "markdown",
   "id": "1930e1dc",
   "metadata": {},
   "source": [
    "## Library importing "
   ]
  },
  {
   "cell_type": "code",
   "execution_count": 1,
   "id": "33070ebd",
   "metadata": {},
   "outputs": [],
   "source": [
    "import pandas as pd\n",
    "import matplotlib.pyplot as plt\n",
    "import seaborn as sns\n",
    "import spacy\n",
    "import nltk\n",
    "from nltk.corpus import stopwords\n",
    "\n",
    "from sklearn.pipeline import make_pipeline\n",
    "from sklearn.metrics import accuracy_score, precision_score, recall_score, \\\n",
    "                            plot_confusion_matrix, classification_report"
   ]
  },
  {
   "cell_type": "code",
   "execution_count": 2,
   "id": "fc809c6e",
   "metadata": {},
   "outputs": [],
   "source": [
    "nlp = spacy.load('en_core_web_sm')"
   ]
  },
  {
   "cell_type": "markdown",
   "id": "2a3f882d",
   "metadata": {},
   "source": [
    "## Data Upload"
   ]
  },
  {
   "cell_type": "markdown",
   "id": "c928761f",
   "metadata": {},
   "source": [
    "### Training Data"
   ]
  },
  {
   "cell_type": "code",
   "execution_count": 3,
   "id": "6bcd3a89",
   "metadata": {},
   "outputs": [
    {
     "data": {
      "text/html": [
       "<div>\n",
       "<style scoped>\n",
       "    .dataframe tbody tr th:only-of-type {\n",
       "        vertical-align: middle;\n",
       "    }\n",
       "\n",
       "    .dataframe tbody tr th {\n",
       "        vertical-align: top;\n",
       "    }\n",
       "\n",
       "    .dataframe thead th {\n",
       "        text-align: right;\n",
       "    }\n",
       "</style>\n",
       "<table border=\"1\" class=\"dataframe\">\n",
       "  <thead>\n",
       "    <tr style=\"text-align: right;\">\n",
       "      <th></th>\n",
       "      <th>id</th>\n",
       "      <th>text</th>\n",
       "      <th>author</th>\n",
       "    </tr>\n",
       "  </thead>\n",
       "  <tbody>\n",
       "    <tr>\n",
       "      <th>0</th>\n",
       "      <td>id26305</td>\n",
       "      <td>This process, however, afforded me no means of...</td>\n",
       "      <td>EAP</td>\n",
       "    </tr>\n",
       "    <tr>\n",
       "      <th>1</th>\n",
       "      <td>id17569</td>\n",
       "      <td>It never once occurred to me that the fumbling...</td>\n",
       "      <td>HPL</td>\n",
       "    </tr>\n",
       "    <tr>\n",
       "      <th>2</th>\n",
       "      <td>id11008</td>\n",
       "      <td>In his left hand was a gold snuff box, from wh...</td>\n",
       "      <td>EAP</td>\n",
       "    </tr>\n",
       "    <tr>\n",
       "      <th>3</th>\n",
       "      <td>id27763</td>\n",
       "      <td>How lovely is spring As we looked from Windsor...</td>\n",
       "      <td>MWS</td>\n",
       "    </tr>\n",
       "    <tr>\n",
       "      <th>4</th>\n",
       "      <td>id12958</td>\n",
       "      <td>Finding nothing else, not even gold, the Super...</td>\n",
       "      <td>HPL</td>\n",
       "    </tr>\n",
       "  </tbody>\n",
       "</table>\n",
       "</div>"
      ],
      "text/plain": [
       "        id                                               text author\n",
       "0  id26305  This process, however, afforded me no means of...    EAP\n",
       "1  id17569  It never once occurred to me that the fumbling...    HPL\n",
       "2  id11008  In his left hand was a gold snuff box, from wh...    EAP\n",
       "3  id27763  How lovely is spring As we looked from Windsor...    MWS\n",
       "4  id12958  Finding nothing else, not even gold, the Super...    HPL"
      ]
     },
     "execution_count": 3,
     "metadata": {},
     "output_type": "execute_result"
    }
   ],
   "source": [
    "df = pd.read_csv('train.csv') # using panda to read the csv file\n",
    "df.head()"
   ]
  },
  {
   "cell_type": "code",
   "execution_count": 4,
   "id": "9a608d40",
   "metadata": {},
   "outputs": [
    {
     "data": {
      "text/html": [
       "<div>\n",
       "<style scoped>\n",
       "    .dataframe tbody tr th:only-of-type {\n",
       "        vertical-align: middle;\n",
       "    }\n",
       "\n",
       "    .dataframe tbody tr th {\n",
       "        vertical-align: top;\n",
       "    }\n",
       "\n",
       "    .dataframe thead th {\n",
       "        text-align: right;\n",
       "    }\n",
       "</style>\n",
       "<table border=\"1\" class=\"dataframe\">\n",
       "  <thead>\n",
       "    <tr style=\"text-align: right;\">\n",
       "      <th></th>\n",
       "      <th>text</th>\n",
       "      <th>author</th>\n",
       "    </tr>\n",
       "    <tr>\n",
       "      <th>id</th>\n",
       "      <th></th>\n",
       "      <th></th>\n",
       "    </tr>\n",
       "  </thead>\n",
       "  <tbody>\n",
       "    <tr>\n",
       "      <th>id26305</th>\n",
       "      <td>This process, however, afforded me no means of...</td>\n",
       "      <td>EAP</td>\n",
       "    </tr>\n",
       "    <tr>\n",
       "      <th>id17569</th>\n",
       "      <td>It never once occurred to me that the fumbling...</td>\n",
       "      <td>HPL</td>\n",
       "    </tr>\n",
       "    <tr>\n",
       "      <th>id11008</th>\n",
       "      <td>In his left hand was a gold snuff box, from wh...</td>\n",
       "      <td>EAP</td>\n",
       "    </tr>\n",
       "    <tr>\n",
       "      <th>id27763</th>\n",
       "      <td>How lovely is spring As we looked from Windsor...</td>\n",
       "      <td>MWS</td>\n",
       "    </tr>\n",
       "    <tr>\n",
       "      <th>id12958</th>\n",
       "      <td>Finding nothing else, not even gold, the Super...</td>\n",
       "      <td>HPL</td>\n",
       "    </tr>\n",
       "  </tbody>\n",
       "</table>\n",
       "</div>"
      ],
      "text/plain": [
       "                                                      text author\n",
       "id                                                               \n",
       "id26305  This process, however, afforded me no means of...    EAP\n",
       "id17569  It never once occurred to me that the fumbling...    HPL\n",
       "id11008  In his left hand was a gold snuff box, from wh...    EAP\n",
       "id27763  How lovely is spring As we looked from Windsor...    MWS\n",
       "id12958  Finding nothing else, not even gold, the Super...    HPL"
      ]
     },
     "execution_count": 4,
     "metadata": {},
     "output_type": "execute_result"
    }
   ],
   "source": [
    "df.set_index('id').head() # making the Id column the index"
   ]
  },
  {
   "cell_type": "markdown",
   "id": "33266570",
   "metadata": {},
   "source": [
    "### Test Data"
   ]
  },
  {
   "cell_type": "code",
   "execution_count": 5,
   "id": "5cd9e6a4",
   "metadata": {},
   "outputs": [
    {
     "name": "stdout",
     "output_type": "stream",
     "text": [
      "(8392, 2)\n"
     ]
    },
    {
     "data": {
      "text/html": [
       "<div>\n",
       "<style scoped>\n",
       "    .dataframe tbody tr th:only-of-type {\n",
       "        vertical-align: middle;\n",
       "    }\n",
       "\n",
       "    .dataframe tbody tr th {\n",
       "        vertical-align: top;\n",
       "    }\n",
       "\n",
       "    .dataframe thead th {\n",
       "        text-align: right;\n",
       "    }\n",
       "</style>\n",
       "<table border=\"1\" class=\"dataframe\">\n",
       "  <thead>\n",
       "    <tr style=\"text-align: right;\">\n",
       "      <th></th>\n",
       "      <th>id</th>\n",
       "      <th>text</th>\n",
       "    </tr>\n",
       "  </thead>\n",
       "  <tbody>\n",
       "    <tr>\n",
       "      <th>0</th>\n",
       "      <td>id02310</td>\n",
       "      <td>Still, as I urged our leaving Ireland with suc...</td>\n",
       "    </tr>\n",
       "    <tr>\n",
       "      <th>1</th>\n",
       "      <td>id24541</td>\n",
       "      <td>If a fire wanted fanning, it could readily be ...</td>\n",
       "    </tr>\n",
       "    <tr>\n",
       "      <th>2</th>\n",
       "      <td>id00134</td>\n",
       "      <td>And when they had broken down the frail door t...</td>\n",
       "    </tr>\n",
       "    <tr>\n",
       "      <th>3</th>\n",
       "      <td>id27757</td>\n",
       "      <td>While I was thinking how I should possibly man...</td>\n",
       "    </tr>\n",
       "    <tr>\n",
       "      <th>4</th>\n",
       "      <td>id04081</td>\n",
       "      <td>I am not sure to what limit his knowledge may ...</td>\n",
       "    </tr>\n",
       "  </tbody>\n",
       "</table>\n",
       "</div>"
      ],
      "text/plain": [
       "        id                                               text\n",
       "0  id02310  Still, as I urged our leaving Ireland with suc...\n",
       "1  id24541  If a fire wanted fanning, it could readily be ...\n",
       "2  id00134  And when they had broken down the frail door t...\n",
       "3  id27757  While I was thinking how I should possibly man...\n",
       "4  id04081  I am not sure to what limit his knowledge may ..."
      ]
     },
     "execution_count": 5,
     "metadata": {},
     "output_type": "execute_result"
    }
   ],
   "source": [
    "Test = pd.read_csv('test.csv') # using panda to read the csv file\n",
    "Test.set_index('id').head() # making the Id column the index\n",
    "print(Test.shape)\n",
    "Test.head()"
   ]
  },
  {
   "cell_type": "markdown",
   "id": "b27b5925",
   "metadata": {},
   "source": [
    "## Exploratory Data Analysis (EDA)"
   ]
  },
  {
   "cell_type": "code",
   "execution_count": 6,
   "id": "c95f9592",
   "metadata": {},
   "outputs": [
    {
     "name": "stdout",
     "output_type": "stream",
     "text": [
      "the shape of the DataFrame is:  (19579, 3)\n",
      "the data have this number of row  19579\n",
      "the data have this number of columns  3\n"
     ]
    }
   ],
   "source": [
    "# Looking at the shape of the data \n",
    "print(\"the shape of the DataFrame is: \", df.shape)\n",
    "print(\"the data have this number of row \", df.shape[0])\n",
    "print(\"the data have this number of columns \", df.shape[1])"
   ]
  },
  {
   "cell_type": "code",
   "execution_count": 7,
   "id": "331ccb65",
   "metadata": {},
   "outputs": [
    {
     "name": "stdout",
     "output_type": "stream",
     "text": [
      "the totla number of missing values are  0\n"
     ]
    }
   ],
   "source": [
    "# lookig for missing value in the dataframe\n",
    "print ('the totla number of missing values are ',df.isnull().sum().sum())"
   ]
  },
  {
   "cell_type": "code",
   "execution_count": 8,
   "id": "ae30355d",
   "metadata": {},
   "outputs": [
    {
     "name": "stdout",
     "output_type": "stream",
     "text": [
      "<class 'pandas.core.frame.DataFrame'>\n",
      "RangeIndex: 19579 entries, 0 to 19578\n",
      "Data columns (total 3 columns):\n",
      " #   Column  Non-Null Count  Dtype \n",
      "---  ------  --------------  ----- \n",
      " 0   id      19579 non-null  object\n",
      " 1   text    19579 non-null  object\n",
      " 2   author  19579 non-null  object\n",
      "dtypes: object(3)\n",
      "memory usage: 459.0+ KB\n"
     ]
    }
   ],
   "source": [
    "# information abour the data\n",
    "df.info()"
   ]
  },
  {
   "cell_type": "markdown",
   "id": "52051b9b",
   "metadata": {},
   "source": [
    "#### the destribtion of authore in the data "
   ]
  },
  {
   "cell_type": "code",
   "execution_count": 9,
   "id": "cbcf2df7",
   "metadata": {},
   "outputs": [
    {
     "data": {
      "text/plain": [
       "EAP    0.403494\n",
       "MWS    0.308698\n",
       "HPL    0.287808\n",
       "Name: author, dtype: float64"
      ]
     },
     "execution_count": 9,
     "metadata": {},
     "output_type": "execute_result"
    }
   ],
   "source": [
    "author_destribution = df['author'].value_counts(normalize=True)\n",
    "author_destribution"
   ]
  },
  {
   "cell_type": "code",
   "execution_count": 10,
   "id": "ea856b42",
   "metadata": {},
   "outputs": [
    {
     "data": {
      "image/png": "[encoded data removed]",
      "text/plain": [
       "<Figure size 432x288 with 1 Axes>"
      ]
     },
     "metadata": {},
     "output_type": "display_data"
    }
   ],
   "source": [
    "# pie chart of the author distribution\n",
    "author_Label = author_destribution.index\n",
    "\n",
    "plt.pie(author_destribution, labels = author_Label, autopct='%1.0f%%');\n",
    "plt.show()"
   ]
  },
  {
   "cell_type": "code",
   "execution_count": 11,
   "id": "0a653cd0",
   "metadata": {},
   "outputs": [
    {
     "data": {
      "image/png": "[encoded data removed]",
      "text/plain": [
       "<Figure size 432x288 with 1 Axes>"
      ]
     },
     "metadata": {
      "needs_background": "light"
     },
     "output_type": "display_data"
    }
   ],
   "source": [
    "# bar chart of the author distribution\n",
    "author_destribution.plot(kind='bar')\n",
    "plt.show()"
   ]
  },
  {
   "cell_type": "markdown",
   "id": "1649adc7",
   "metadata": {},
   "source": [
    "## Data Processing"
   ]
  },
  {
   "cell_type": "markdown",
   "id": "878a5864",
   "metadata": {},
   "source": [
    "#### Remove punctuation"
   ]
  },
  {
   "cell_type": "code",
   "execution_count": 12,
   "id": "51136f1f",
   "metadata": {},
   "outputs": [],
   "source": [
    "def remove_punctuation(str):\n",
    "    \"\"\"\n",
    "    this function take in a sectence\n",
    "    this function remove punctuation.\n",
    "    it return a sentens with no punctuation\n",
    "    \"\"\"\n",
    "    str = str.lower() # Convert all characters to lowercase\n",
    "    sent = nlp(str)\n",
    "    token_sentence =[]\n",
    "    for token in sent: # this loop will go over the token in the sentence\n",
    "        if token.is_punct == False: # check is the token is a punctuation\n",
    "            token_sentence.append(token) # add the not punctuation token to the list\n",
    "\n",
    "    # rewrite the sentence with no punctuation\n",
    "    new_sentencs = ' '.join(token.text for token in token_sentence)\n",
    "    \n",
    "    return new_sentencs"
   ]
  },
  {
   "cell_type": "code",
   "execution_count": 13,
   "id": "beb6f08a",
   "metadata": {},
   "outputs": [],
   "source": [
    "# Creat a columns with sentence with no punctuation\n",
    "df['text_no_punctuation'] = df['text'].apply(remove_punctuation)\n",
    "\n",
    "# TEst DATASET\n",
    "Test['text_no_punctuation'] = Test['text'].apply(remove_punctuation)"
   ]
  },
  {
   "cell_type": "markdown",
   "id": "4348402d",
   "metadata": {},
   "source": [
    "#### Tokenization"
   ]
  },
  {
   "cell_type": "code",
   "execution_count": 14,
   "id": "94ad5587",
   "metadata": {},
   "outputs": [],
   "source": [
    "def tokenization(str):\n",
    "    \"\"\"\n",
    "    this function take in a sectence\n",
    "    this function tokeinze the sentens uing spacy\n",
    "    return a list of token\n",
    "    \"\"\"\n",
    "    sent =  nlp(str)\n",
    "    tokenization_list =[]\n",
    "    for token in sent:\n",
    "        tokenization_list.append(token) # append the tokens in the new list\n",
    "    \n",
    "    return  tokenization_list"
   ]
  },
  {
   "cell_type": "markdown",
   "id": "ac4d8a26",
   "metadata": {},
   "source": [
    "#### Remove stopwords"
   ]
  },
  {
   "cell_type": "code",
   "execution_count": 15,
   "id": "82788e61",
   "metadata": {},
   "outputs": [],
   "source": [
    "def stopwords_remove(str):\n",
    "    \"\"\"\n",
    "    this function take in a sentence\n",
    "    this function remove all the stopwrods in the list\n",
    "    return a list of token with no stop words\n",
    "    \"\"\" \n",
    "    str_list = tokenization(str)\n",
    "    no_stopword_list = []\n",
    "    for word in str_list:\n",
    "        if word.is_stop == False: # checking if the word is a stop ord or not\n",
    "            no_stopword_list.append(word) # append all non stop words in the sentens\n",
    "    \n",
    "    return no_stopword_list"
   ]
  },
  {
   "cell_type": "markdown",
   "id": "7a16e23a",
   "metadata": {},
   "source": [
    "#### Stemming "
   ]
  },
  {
   "cell_type": "code",
   "execution_count": 16,
   "id": "091457a6",
   "metadata": {},
   "outputs": [],
   "source": [
    "from nltk.stem.snowball import SnowballStemmer\n",
    "def Stemming(str_list):\n",
    "    \"\"\"\n",
    "    this function take in a list\n",
    "    this function stemm the token\n",
    "    it return a token of a stemm \n",
    "    \"\"\"\n",
    "    stemming = SnowballStemmer(language='english')\n",
    "    steeming_token =[]\n",
    "    for word in str_list:\n",
    "        stem = stemming.stem(word.text)\n",
    "        steeming_token.append(stem)\n",
    "    \n",
    "    # rewrite the sentence with steem word\n",
    "    new_sentencs = ' '.join(token for token in steeming_token)\n",
    "    \n",
    "    return new_sentencs"
   ]
  },
  {
   "cell_type": "markdown",
   "id": "730da2fa",
   "metadata": {},
   "source": [
    "#### Lemmatizing"
   ]
  },
  {
   "cell_type": "code",
   "execution_count": 17,
   "id": "1360a05c",
   "metadata": {},
   "outputs": [],
   "source": [
    "# def lemmatizing(str_list):\n",
    "#     \"\"\"\n",
    "#     this function take in a list\n",
    "#     this function lemmatizing the token\n",
    "#     it return a list of a lemma text\n",
    "#     \"\"\"\n",
    "#     steeming_lemma =[]\n",
    "#     for word in str_list:\n",
    "#         lemma = word.lemma_\n",
    "#         steeming_lemma.append(lemma)\n",
    "    \n",
    "#     # rewrite the sentence with steem word\n",
    "#     new_sentencs = ' '.join(token for token in steeming_lemma)\n",
    "    \n",
    "#     return new_sentencs"
   ]
  },
  {
   "cell_type": "markdown",
   "id": "9b2c270c",
   "metadata": {},
   "source": [
    "### Final pre-processing"
   ]
  },
  {
   "cell_type": "code",
   "execution_count": 18,
   "id": "1f5728a0",
   "metadata": {},
   "outputs": [],
   "source": [
    "def final_preprocess(string):\n",
    "    \"\"\"\n",
    "    take in a stering\n",
    "    this function alpply \n",
    "    return a clean sentence\n",
    "    \"\"\"\n",
    "    final_pre_process_stemm = Stemming(stopwords_remove(string))\n",
    "#     final_pre_process_lemma = lemmatizing(stopwords_remove(string))\n",
    "    return final_pre_process_stemm "
   ]
  },
  {
   "cell_type": "code",
   "execution_count": 19,
   "id": "7f0518e2",
   "metadata": {},
   "outputs": [],
   "source": [
    "# Creat two ne colum stemming text and lemma text\n",
    "df['text_stemming']= df['text_no_punctuation'].apply(final_preprocess)\n",
    "\n",
    "# TEST DATASET\n",
    "Test['text_stemming']= Test['text_no_punctuation'].apply(final_preprocess)"
   ]
  },
  {
   "cell_type": "code",
   "execution_count": 20,
   "id": "691c09b0",
   "metadata": {},
   "outputs": [
    {
     "data": {
      "text/html": [
       "<div>\n",
       "<style scoped>\n",
       "    .dataframe tbody tr th:only-of-type {\n",
       "        vertical-align: middle;\n",
       "    }\n",
       "\n",
       "    .dataframe tbody tr th {\n",
       "        vertical-align: top;\n",
       "    }\n",
       "\n",
       "    .dataframe thead th {\n",
       "        text-align: right;\n",
       "    }\n",
       "</style>\n",
       "<table border=\"1\" class=\"dataframe\">\n",
       "  <thead>\n",
       "    <tr style=\"text-align: right;\">\n",
       "      <th></th>\n",
       "      <th>id</th>\n",
       "      <th>text</th>\n",
       "      <th>text_no_punctuation</th>\n",
       "      <th>text_stemming</th>\n",
       "    </tr>\n",
       "  </thead>\n",
       "  <tbody>\n",
       "    <tr>\n",
       "      <th>0</th>\n",
       "      <td>id02310</td>\n",
       "      <td>Still, as I urged our leaving Ireland with suc...</td>\n",
       "      <td>still as i urged our leaving ireland with such...</td>\n",
       "      <td>urg leav ireland inquietud impati father thoug...</td>\n",
       "    </tr>\n",
       "    <tr>\n",
       "      <th>1</th>\n",
       "      <td>id24541</td>\n",
       "      <td>If a fire wanted fanning, it could readily be ...</td>\n",
       "      <td>if a fire wanted fanning it could readily be f...</td>\n",
       "      <td>fire want fan readili fan newspap govern grew ...</td>\n",
       "    </tr>\n",
       "    <tr>\n",
       "      <th>2</th>\n",
       "      <td>id00134</td>\n",
       "      <td>And when they had broken down the frail door t...</td>\n",
       "      <td>and when they had broken down the frail door t...</td>\n",
       "      <td>broken frail door found clean pick human skele...</td>\n",
       "    </tr>\n",
       "    <tr>\n",
       "      <th>3</th>\n",
       "      <td>id27757</td>\n",
       "      <td>While I was thinking how I should possibly man...</td>\n",
       "      <td>while i was thinking how i should possibly man...</td>\n",
       "      <td>think possibl manag actual tumbl head roll ste...</td>\n",
       "    </tr>\n",
       "    <tr>\n",
       "      <th>4</th>\n",
       "      <td>id04081</td>\n",
       "      <td>I am not sure to what limit his knowledge may ...</td>\n",
       "      <td>i am not sure to what limit his knowledge may ...</td>\n",
       "      <td>sure limit knowledg extend</td>\n",
       "    </tr>\n",
       "  </tbody>\n",
       "</table>\n",
       "</div>"
      ],
      "text/plain": [
       "        id                                               text  \\\n",
       "0  id02310  Still, as I urged our leaving Ireland with suc...   \n",
       "1  id24541  If a fire wanted fanning, it could readily be ...   \n",
       "2  id00134  And when they had broken down the frail door t...   \n",
       "3  id27757  While I was thinking how I should possibly man...   \n",
       "4  id04081  I am not sure to what limit his knowledge may ...   \n",
       "\n",
       "                                 text_no_punctuation  \\\n",
       "0  still as i urged our leaving ireland with such...   \n",
       "1  if a fire wanted fanning it could readily be f...   \n",
       "2  and when they had broken down the frail door t...   \n",
       "3  while i was thinking how i should possibly man...   \n",
       "4  i am not sure to what limit his knowledge may ...   \n",
       "\n",
       "                                       text_stemming  \n",
       "0  urg leav ireland inquietud impati father thoug...  \n",
       "1  fire want fan readili fan newspap govern grew ...  \n",
       "2  broken frail door found clean pick human skele...  \n",
       "3  think possibl manag actual tumbl head roll ste...  \n",
       "4                         sure limit knowledg extend  "
      ]
     },
     "execution_count": 20,
     "metadata": {},
     "output_type": "execute_result"
    }
   ],
   "source": [
    "# Test dataset\n",
    "Test.head()"
   ]
  },
  {
   "cell_type": "markdown",
   "id": "019c9ce5",
   "metadata": {},
   "source": [
    "#### Feature Engineering"
   ]
  },
  {
   "cell_type": "code",
   "execution_count": 21,
   "id": "96aa6fc4",
   "metadata": {},
   "outputs": [],
   "source": [
    "# creat a column of the word lenth\n",
    "df['text_lenght'] = df['text_no_punctuation'].apply(lambda x: len(x))\n",
    "# creat a column of the number of words in a text\n",
    "df['text_word_count'] = df['text_no_punctuation'].apply(lambda x: len(x.split()))"
   ]
  },
  {
   "cell_type": "code",
   "execution_count": 22,
   "id": "e29c515c",
   "metadata": {},
   "outputs": [],
   "source": [
    "def avg_word_len(x):\n",
    "    \"\"\"\n",
    "    take in a sentence or text\n",
    "    calculate the average of the words in the text\n",
    "    return a int (the average)\n",
    "    \"\"\"\n",
    "    words = x.split() # to only count the word no spaces\n",
    "    word_lenght = 0\n",
    "    for word in words:\n",
    "        word_lenght = word_lenght + len(word) # count the lenght of all the word in the sentenc\n",
    "    words_avg = word_lenght/len(words)\n",
    "    return words_avg\n",
    "\n",
    "# creat a coulm of the average numbe of words in a text\n",
    "df['text_avg_word_lenght'] = df['text_no_punctuation'].apply(avg_word_len)\n"
   ]
  },
  {
   "cell_type": "markdown",
   "id": "f09b785a",
   "metadata": {},
   "source": [
    "## Exploratory Data Analysis (EDA)"
   ]
  },
  {
   "cell_type": "markdown",
   "id": "44fca776",
   "metadata": {},
   "source": [
    "#### Text Length, word count, and Average Words Lenght distribution"
   ]
  },
  {
   "cell_type": "code",
   "execution_count": 23,
   "id": "8159ae59",
   "metadata": {},
   "outputs": [
    {
     "name": "stderr",
     "output_type": "stream",
     "text": [
      "C:\\Users\\mosae\\anaconda3\\lib\\site-packages\\seaborn\\distributions.py:2557: FutureWarning: `distplot` is a deprecated function and will be removed in a future version. Please adapt your code to use either `displot` (a figure-level function with similar flexibility) or `histplot` (an axes-level function for histograms).\n",
      "  warnings.warn(msg, FutureWarning)\n"
     ]
    },
    {
     "data": {
      "image/png": "[encoded data removed]",
      "text/plain": [
       "<Figure size 720x720 with 1 Axes>"
      ]
     },
     "metadata": {
      "needs_background": "light"
     },
     "output_type": "display_data"
    }
   ],
   "source": [
    "# plot the text lenght distribution\n",
    "plt.figure(figsize=(10,10))\n",
    "sns.distplot(df['text_lenght'])\n",
    "plt.xlabel('Text Lenght', fontsize=20)\n",
    "plt.ylabel('Count', fontsize=20)\n",
    "plt.title(\"TEXT LENGHT DISTRIBUTION\", fontsize=20)\n",
    "# show the mean on the plot\n",
    "mean= df['text_lenght'].mean()\n",
    "plt.axvline(x=mean,color='green',label=f'mean: {round(mean,0)} Character')\n",
    "# show the std on the plot\n",
    "std =df['text_lenght'].std()\n",
    "plt.axvline(x=std,color='red',label=f'std: {round(std,0)} Character')\n",
    "plt.grid()\n",
    "plt.legend()\n",
    "plt.show()"
   ]
  },
  {
   "cell_type": "code",
   "execution_count": 24,
   "id": "90909f56",
   "metadata": {},
   "outputs": [
    {
     "name": "stderr",
     "output_type": "stream",
     "text": [
      "C:\\Users\\mosae\\anaconda3\\lib\\site-packages\\seaborn\\distributions.py:2557: FutureWarning: `distplot` is a deprecated function and will be removed in a future version. Please adapt your code to use either `displot` (a figure-level function with similar flexibility) or `histplot` (an axes-level function for histograms).\n",
      "  warnings.warn(msg, FutureWarning)\n"
     ]
    },
    {
     "data": {
      "image/png": "[encoded data removed]",
      "text/plain": [
       "<Figure size 720x720 with 1 Axes>"
      ]
     },
     "metadata": {
      "needs_background": "light"
     },
     "output_type": "display_data"
    }
   ],
   "source": [
    "# plot the word count distribution\n",
    "plt.figure(figsize=(10,10))\n",
    "sns.distplot(df['text_word_count'])\n",
    "plt.xlabel('Word Count', fontsize=20)\n",
    "plt.ylabel('Count', fontsize=20)\n",
    "plt.title(\"WORDS COUNTS DISTRIBUTION\", fontsize=20)\n",
    "# show the mean on the plot\n",
    "mean= df['text_word_count'].mean()\n",
    "plt.axvline(x=mean,color='green',label=f'mean: {round(mean,0)} words')\n",
    "# show the std on the plot\n",
    "std =df['text_word_count'].std()\n",
    "plt.axvline(x=std,color='red',label=f'std: {round(std,0)} words')\n",
    "plt.grid()\n",
    "plt.legend()\n",
    "plt.show()"
   ]
  },
  {
   "cell_type": "code",
   "execution_count": 25,
   "id": "eab3665b",
   "metadata": {},
   "outputs": [
    {
     "name": "stderr",
     "output_type": "stream",
     "text": [
      "C:\\Users\\mosae\\anaconda3\\lib\\site-packages\\seaborn\\distributions.py:2557: FutureWarning: `distplot` is a deprecated function and will be removed in a future version. Please adapt your code to use either `displot` (a figure-level function with similar flexibility) or `histplot` (an axes-level function for histograms).\n",
      "  warnings.warn(msg, FutureWarning)\n"
     ]
    },
    {
     "data": {
      "image/png": "[encoded data removed]",
      "text/plain": [
       "<Figure size 720x720 with 1 Axes>"
      ]
     },
     "metadata": {
      "needs_background": "light"
     },
     "output_type": "display_data"
    }
   ],
   "source": [
    "# plot the average word lenght distribution\n",
    "plt.figure(figsize=(10,10))\n",
    "sns.distplot(df['text_avg_word_lenght'])\n",
    "plt.xlabel('average words Lenght', fontsize=20)\n",
    "plt.ylabel('Count', fontsize=20)\n",
    "plt.title(\"AVERAGE WORDS LENGHT DISTRIBUTION\", fontsize=20)\n",
    "# show the mean on the plot\n",
    "mean= df['text_avg_word_lenght'].mean()\n",
    "plt.axvline(x=mean,color='green',label=f'mean: {round(mean,0)} Character')\n",
    "# show the std on the plot\n",
    "std =df['text_avg_word_lenght'].std()\n",
    "plt.axvline(x=std,color='red',label=f'std: {round(std,0)} Character')\n",
    "plt.grid()\n",
    "plt.legend()\n",
    "plt.show()"
   ]
  },
  {
   "cell_type": "markdown",
   "id": "8839c719",
   "metadata": {},
   "source": [
    "#### vectorizing text via term frequencies (TF) "
   ]
  },
  {
   "cell_type": "code",
   "execution_count": 26,
   "id": "9d0b7a39",
   "metadata": {},
   "outputs": [],
   "source": [
    "from sklearn.feature_extraction.text import CountVectorizer"
   ]
  },
  {
   "cell_type": "code",
   "execution_count": 27,
   "id": "89142865",
   "metadata": {},
   "outputs": [],
   "source": [
    "def most_frequent_words(x ,n):\n",
    "    \"\"\"\n",
    "    this function takes in a list\n",
    "    do a count Vectorizer or term frequencies\n",
    "    return a the n number of most frequencies words\"\"\"\n",
    "    TF_CV = CountVectorizer(max_df = 0.95, min_df=2).fit(x)\n",
    "    vector = TF_CV.vocabulary_.items()\n",
    "    words_freq = []\n",
    "    for wor in vector:\n",
    "        words_freq.append(wor)\n",
    "    words_freq = sorted(words_freq, reverse=True)\n",
    "    return words_freq[:n]"
   ]
  },
  {
   "cell_type": "code",
   "execution_count": 28,
   "id": "bcc61a66",
   "metadata": {},
   "outputs": [],
   "source": [
    "most_80_freq_words = most_frequent_words(df['text_stemming'],80)"
   ]
  },
  {
   "cell_type": "code",
   "execution_count": 29,
   "id": "a48c1642",
   "metadata": {},
   "outputs": [],
   "source": [
    "text_list =[]\n",
    "# creat a list of the mosrt frequent words\n",
    "for word in most_80_freq_words:\n",
    "    text_list.append(word[0])\n",
    "\n",
    "# join the most frequent words to creat a sentens for wordcloud\n",
    "text_sentens = \" \".join(token for token in text_list)"
   ]
  },
  {
   "cell_type": "markdown",
   "id": "2104658c",
   "metadata": {},
   "source": [
    "#### wordcloud"
   ]
  },
  {
   "cell_type": "code",
   "execution_count": 30,
   "id": "a6b92c18",
   "metadata": {},
   "outputs": [],
   "source": [
    "from wordcloud import WordCloud"
   ]
  },
  {
   "cell_type": "code",
   "execution_count": 31,
   "id": "7c37c11c",
   "metadata": {},
   "outputs": [
    {
     "data": {
      "image/png": "[encoded data removed]",
      "text/plain": [
       "<Figure size 432x288 with 1 Axes>"
      ]
     },
     "metadata": {
      "needs_background": "light"
     },
     "output_type": "display_data"
    }
   ],
   "source": [
    "wordcloud = WordCloud(max_font_size=50, max_words=100, background_color=\"white\").generate(text_sentens)\n",
    "plt.figure()\n",
    "plt.imshow(wordcloud, interpolation=\"bilinear\")\n",
    "plt.axis(\"off\")\n",
    "plt.show()"
   ]
  },
  {
   "cell_type": "markdown",
   "id": "964c688b",
   "metadata": {},
   "source": [
    "#### vectorizing text via inverse document frequencies (TF-IDF)"
   ]
  },
  {
   "cell_type": "code",
   "execution_count": 32,
   "id": "e72162e0",
   "metadata": {},
   "outputs": [],
   "source": [
    "from sklearn.feature_extraction.text import TfidfVectorizer"
   ]
  },
  {
   "cell_type": "code",
   "execution_count": 33,
   "id": "7100fc00",
   "metadata": {},
   "outputs": [
    {
     "data": {
      "text/html": [
       "<div>\n",
       "<style scoped>\n",
       "    .dataframe tbody tr th:only-of-type {\n",
       "        vertical-align: middle;\n",
       "    }\n",
       "\n",
       "    .dataframe tbody tr th {\n",
       "        vertical-align: top;\n",
       "    }\n",
       "\n",
       "    .dataframe thead th {\n",
       "        text-align: right;\n",
       "    }\n",
       "</style>\n",
       "<table border=\"1\" class=\"dataframe\">\n",
       "  <thead>\n",
       "    <tr style=\"text-align: right;\">\n",
       "      <th></th>\n",
       "      <th>aback</th>\n",
       "      <th>abandon</th>\n",
       "      <th>abaout</th>\n",
       "      <th>abas</th>\n",
       "      <th>abash</th>\n",
       "      <th>abat</th>\n",
       "      <th>abbey</th>\n",
       "      <th>abbrevi</th>\n",
       "      <th>abdic</th>\n",
       "      <th>abdul</th>\n",
       "      <th>...</th>\n",
       "      <th>zerubbabel</th>\n",
       "      <th>zest</th>\n",
       "      <th>zigzag</th>\n",
       "      <th>zimmer</th>\n",
       "      <th>zit</th>\n",
       "      <th>zodiac</th>\n",
       "      <th>zokkar</th>\n",
       "      <th>zone</th>\n",
       "      <th>ædile</th>\n",
       "      <th>æronaut</th>\n",
       "    </tr>\n",
       "  </thead>\n",
       "  <tbody>\n",
       "    <tr>\n",
       "      <th>0</th>\n",
       "      <td>0.0</td>\n",
       "      <td>0.000000</td>\n",
       "      <td>0.0</td>\n",
       "      <td>0.0</td>\n",
       "      <td>0.0</td>\n",
       "      <td>0.0</td>\n",
       "      <td>0.0</td>\n",
       "      <td>0.0</td>\n",
       "      <td>0.0</td>\n",
       "      <td>0.0</td>\n",
       "      <td>...</td>\n",
       "      <td>0.0</td>\n",
       "      <td>0.0</td>\n",
       "      <td>0.0</td>\n",
       "      <td>0.0</td>\n",
       "      <td>0.0</td>\n",
       "      <td>0.0</td>\n",
       "      <td>0.0</td>\n",
       "      <td>0.0</td>\n",
       "      <td>0.0</td>\n",
       "      <td>0.0</td>\n",
       "    </tr>\n",
       "    <tr>\n",
       "      <th>1</th>\n",
       "      <td>0.0</td>\n",
       "      <td>0.000000</td>\n",
       "      <td>0.0</td>\n",
       "      <td>0.0</td>\n",
       "      <td>0.0</td>\n",
       "      <td>0.0</td>\n",
       "      <td>0.0</td>\n",
       "      <td>0.0</td>\n",
       "      <td>0.0</td>\n",
       "      <td>0.0</td>\n",
       "      <td>...</td>\n",
       "      <td>0.0</td>\n",
       "      <td>0.0</td>\n",
       "      <td>0.0</td>\n",
       "      <td>0.0</td>\n",
       "      <td>0.0</td>\n",
       "      <td>0.0</td>\n",
       "      <td>0.0</td>\n",
       "      <td>0.0</td>\n",
       "      <td>0.0</td>\n",
       "      <td>0.0</td>\n",
       "    </tr>\n",
       "    <tr>\n",
       "      <th>2</th>\n",
       "      <td>0.0</td>\n",
       "      <td>0.000000</td>\n",
       "      <td>0.0</td>\n",
       "      <td>0.0</td>\n",
       "      <td>0.0</td>\n",
       "      <td>0.0</td>\n",
       "      <td>0.0</td>\n",
       "      <td>0.0</td>\n",
       "      <td>0.0</td>\n",
       "      <td>0.0</td>\n",
       "      <td>...</td>\n",
       "      <td>0.0</td>\n",
       "      <td>0.0</td>\n",
       "      <td>0.0</td>\n",
       "      <td>0.0</td>\n",
       "      <td>0.0</td>\n",
       "      <td>0.0</td>\n",
       "      <td>0.0</td>\n",
       "      <td>0.0</td>\n",
       "      <td>0.0</td>\n",
       "      <td>0.0</td>\n",
       "    </tr>\n",
       "    <tr>\n",
       "      <th>3</th>\n",
       "      <td>0.0</td>\n",
       "      <td>0.000000</td>\n",
       "      <td>0.0</td>\n",
       "      <td>0.0</td>\n",
       "      <td>0.0</td>\n",
       "      <td>0.0</td>\n",
       "      <td>0.0</td>\n",
       "      <td>0.0</td>\n",
       "      <td>0.0</td>\n",
       "      <td>0.0</td>\n",
       "      <td>...</td>\n",
       "      <td>0.0</td>\n",
       "      <td>0.0</td>\n",
       "      <td>0.0</td>\n",
       "      <td>0.0</td>\n",
       "      <td>0.0</td>\n",
       "      <td>0.0</td>\n",
       "      <td>0.0</td>\n",
       "      <td>0.0</td>\n",
       "      <td>0.0</td>\n",
       "      <td>0.0</td>\n",
       "    </tr>\n",
       "    <tr>\n",
       "      <th>4</th>\n",
       "      <td>0.0</td>\n",
       "      <td>0.291841</td>\n",
       "      <td>0.0</td>\n",
       "      <td>0.0</td>\n",
       "      <td>0.0</td>\n",
       "      <td>0.0</td>\n",
       "      <td>0.0</td>\n",
       "      <td>0.0</td>\n",
       "      <td>0.0</td>\n",
       "      <td>0.0</td>\n",
       "      <td>...</td>\n",
       "      <td>0.0</td>\n",
       "      <td>0.0</td>\n",
       "      <td>0.0</td>\n",
       "      <td>0.0</td>\n",
       "      <td>0.0</td>\n",
       "      <td>0.0</td>\n",
       "      <td>0.0</td>\n",
       "      <td>0.0</td>\n",
       "      <td>0.0</td>\n",
       "      <td>0.0</td>\n",
       "    </tr>\n",
       "  </tbody>\n",
       "</table>\n",
       "<p>5 rows × 9846 columns</p>\n",
       "</div>"
      ],
      "text/plain": [
       "   aback   abandon  abaout  abas  abash  abat  abbey  abbrevi  abdic  abdul  \\\n",
       "0    0.0  0.000000     0.0   0.0    0.0   0.0    0.0      0.0    0.0    0.0   \n",
       "1    0.0  0.000000     0.0   0.0    0.0   0.0    0.0      0.0    0.0    0.0   \n",
       "2    0.0  0.000000     0.0   0.0    0.0   0.0    0.0      0.0    0.0    0.0   \n",
       "3    0.0  0.000000     0.0   0.0    0.0   0.0    0.0      0.0    0.0    0.0   \n",
       "4    0.0  0.291841     0.0   0.0    0.0   0.0    0.0      0.0    0.0    0.0   \n",
       "\n",
       "   ...  zerubbabel  zest  zigzag  zimmer  zit  zodiac  zokkar  zone  ædile  \\\n",
       "0  ...         0.0   0.0     0.0     0.0  0.0     0.0     0.0   0.0    0.0   \n",
       "1  ...         0.0   0.0     0.0     0.0  0.0     0.0     0.0   0.0    0.0   \n",
       "2  ...         0.0   0.0     0.0     0.0  0.0     0.0     0.0   0.0    0.0   \n",
       "3  ...         0.0   0.0     0.0     0.0  0.0     0.0     0.0   0.0    0.0   \n",
       "4  ...         0.0   0.0     0.0     0.0  0.0     0.0     0.0   0.0    0.0   \n",
       "\n",
       "   æronaut  \n",
       "0      0.0  \n",
       "1      0.0  \n",
       "2      0.0  \n",
       "3      0.0  \n",
       "4      0.0  \n",
       "\n",
       "[5 rows x 9846 columns]"
      ]
     },
     "execution_count": 33,
     "metadata": {},
     "output_type": "execute_result"
    }
   ],
   "source": [
    "# Creating Sparse Matrix\n",
    "vectorize = TfidfVectorizer( max_df = 0.95, min_df = 2, stop_words='english')\n",
    "tf_idf_vectorization = vectorize.fit_transform(df['text_stemming'])\n",
    "\n",
    "tf_idf_array = tf_idf_vectorization.toarray()\n",
    "\n",
    "df_tf_idf = pd.DataFrame(tf_idf_array, columns=vectorize.get_feature_names())\n",
    "df_tf_idf.index=df.index\n",
    "df_tf_idf.head()"
   ]
  },
  {
   "cell_type": "markdown",
   "id": "0a192a6c",
   "metadata": {},
   "source": [
    "## Topic Modelling with LDA and NMF"
   ]
  },
  {
   "cell_type": "markdown",
   "id": "26677836",
   "metadata": {},
   "source": [
    "#### Non-negative Matrix Factorization"
   ]
  },
  {
   "cell_type": "code",
   "execution_count": 34,
   "id": "26e7af98",
   "metadata": {},
   "outputs": [],
   "source": [
    "from sklearn.decomposition import NMF"
   ]
  },
  {
   "cell_type": "code",
   "execution_count": 35,
   "id": "25657682",
   "metadata": {},
   "outputs": [
    {
     "data": {
      "text/plain": [
       "NMF(alpha=0.0, beta_loss='frobenius', init=None, l1_ratio=0.0, max_iter=200,\n",
       "    n_components=10, random_state=42, shuffle=False, solver='cd', tol=0.0001,\n",
       "    verbose=0)"
      ]
     },
     "execution_count": 35,
     "metadata": {},
     "output_type": "execute_result"
    }
   ],
   "source": [
    "nmf_model = NMF(random_state = 42, n_components=10)\n",
    "nmf_model.fit(tf_idf_vectorization)"
   ]
  },
  {
   "cell_type": "code",
   "execution_count": 36,
   "id": "09215c43",
   "metadata": {},
   "outputs": [
    {
     "name": "stdout",
     "output_type": "stream",
     "text": [
      "THE TOP 10 WORDS FOR TOPIC #0\n",
      "['place', 'feel', 'natur', 'word', 'appear', 'mind', 'fear', 'death', 'thought', 'life'] \n",
      "\n",
      "\n",
      "THE TOP 10 WORDS FOR TOPIC #1\n",
      "['heard', 'dear', 'yes', 'come', 'sir', 'mean', 'littl', 'let', 'dupin', 'said'] \n",
      "\n",
      "\n",
      "THE TOP 10 WORDS FOR TOPIC #2\n",
      "['old', 'told', 'world', 'speak', 'like', 'knew', 'men', 'strang', 'earth', 'thing'] \n",
      "\n",
      "\n",
      "THE TOP 10 WORDS FOR TOPIC #3\n",
      "['affect', 'tender', 'sorrow', 'passion', 'feel', 'happi', 'beauti', 'hope', 'heart', 'love'] \n",
      "\n",
      "\n",
      "THE TOP 10 WORDS FOR TOPIC #4\n",
      "['anim', 'dead', 'seen', 'live', 'year', 'god', 'young', 'great', 'old', 'man'] \n",
      "\n",
      "\n",
      "THE TOP 10 WORDS FOR TOPIC #5\n",
      "['return', 'space', 'spent', 'come', 'short', 'mean', 'hour', 'year', 'long', 'time'] \n",
      "\n",
      "\n",
      "THE TOP 10 WORDS FOR TOPIC #6\n",
      "['expect', 'ye', 'repli', 'strang', 'world', 'believ', 'god', 'tell', 'shall', 'know'] \n",
      "\n",
      "\n",
      "THE TOP 10 WORDS FOR TOPIC #7\n",
      "['morn', 'remain', 'arriv', 'return', 'sleep', 'came', 'hour', 'pass', 'night', 'day'] \n",
      "\n",
      "\n",
      "THE TOP 10 WORDS FOR TOPIC #8\n",
      "['enter', 'left', 'street', 'heard', 'window', 'came', 'room', 'open', 'hous', 'door'] \n",
      "\n",
      "\n",
      "THE TOP 10 WORDS FOR TOPIC #9\n",
      "['tear', 'head', 'turn', 'light', 'face', 'hand', 'like', 'saw', 'look', 'eye'] \n",
      "\n",
      "\n"
     ]
    }
   ],
   "source": [
    "for index, topic in enumerate(nmf_model.components_):\n",
    "    print(f\"THE TOP 10 WORDS FOR TOPIC #{index}\")\n",
    "    print([vectorize.get_feature_names()[i] for i in topic.argsort()[-10:]],'\\n\\n')"
   ]
  },
  {
   "cell_type": "code",
   "execution_count": 37,
   "id": "2b682bc4",
   "metadata": {},
   "outputs": [],
   "source": [
    "df['Topic_NMF'] = nmf_model.transform(tf_idf_vectorization).argmax(axis =1)"
   ]
  },
  {
   "cell_type": "markdown",
   "id": "951e5ba7",
   "metadata": {},
   "source": [
    "####  Latent Dirichlet Allocation (LDA)"
   ]
  },
  {
   "cell_type": "code",
   "execution_count": 38,
   "id": "7ebfac79",
   "metadata": {},
   "outputs": [],
   "source": [
    "from sklearn.decomposition import LatentDirichletAllocation"
   ]
  },
  {
   "cell_type": "code",
   "execution_count": 39,
   "id": "e97c72ef",
   "metadata": {},
   "outputs": [],
   "source": [
    "TF_CV = CountVectorizer(max_df = 0.95, min_df=2)\n",
    "dtm = TF_CV.fit_transform(df['text_stemming'])\n",
    "LED = LatentDirichletAllocation(n_components=10, random_state=42).fit(dtm)\n"
   ]
  },
  {
   "cell_type": "code",
   "execution_count": 40,
   "id": "8f086739",
   "metadata": {},
   "outputs": [
    {
     "name": "stdout",
     "output_type": "stream",
     "text": [
      "THE TOP 10 WORDS FOR TOPIC #0\n",
      "['appear', 'far', 'black', 'door', 'wall', 'feet', 'littl', 'face', 'man', 'water'] \n",
      "\n",
      "\n",
      "THE TOP 10 WORDS FOR TOPIC #1\n",
      "['appear', 'natur', 'spirit', 'love', 'time', 'found', 'death', 'day', 'earth', 'life'] \n",
      "\n",
      "\n",
      "THE TOP 10 WORDS FOR TOPIC #2\n",
      "['fear', 'life', 'happi', 'eye', 'hope', 'said', 'heart', 'thought', 'feel', 'love'] \n",
      "\n",
      "\n",
      "THE TOP 10 WORDS FOR TOPIC #3\n",
      "['heard', 'step', 'mere', 'have', 'room', 'place', 'point', 'natur', 'time', 'great'] \n",
      "\n",
      "\n",
      "THE TOP 10 WORDS FOR TOPIC #4\n",
      "['book', 'told', 'time', 'left', 'like', 'tell', 'old', 'come', 'year', 'thing'] \n",
      "\n",
      "\n",
      "THE TOP 10 WORDS FOR TOPIC #5\n",
      "['hour', 'come', 'light', 'time', 'street', 'dark', 'day', 'came', 'hous', 'night'] \n",
      "\n",
      "\n",
      "THE TOP 10 WORDS FOR TOPIC #6\n",
      "['hideous', 'form', 'horror', 'certain', 'think', 'strang', 'like', 'thing', 'know', 'man'] \n",
      "\n",
      "\n",
      "THE TOP 10 WORDS FOR TOPIC #7\n",
      "['enter', 'reason', 'adrian', 'father', 'mind', 'man', 'raymond', 'door', 'hous', 'open'] \n",
      "\n",
      "\n",
      "THE TOP 10 WORDS FOR TOPIC #8\n",
      "['mr', 'place', 'head', 'littl', 'near', 'man', 'old', 'hand', 'eye', 'great'] \n",
      "\n",
      "\n",
      "THE TOP 10 WORDS FOR TOPIC #9\n",
      "['soon', 'death', 'hand', 'remain', 'saw', 'place', 'thought', 'day', 'time', 'said'] \n",
      "\n",
      "\n"
     ]
    }
   ],
   "source": [
    "for index, topic in enumerate(LED.components_):\n",
    "    print(f\"THE TOP 10 WORDS FOR TOPIC #{index}\")\n",
    "    print([TF_CV.get_feature_names()[i] for i in topic.argsort()[-10:]],'\\n\\n')"
   ]
  },
  {
   "cell_type": "code",
   "execution_count": 41,
   "id": "cdaa1fa1",
   "metadata": {},
   "outputs": [],
   "source": [
    "df['Topic_LED'] = nmf_model.transform(tf_idf_vectorization).argmax(axis =1)"
   ]
  },
  {
   "cell_type": "code",
   "execution_count": 42,
   "id": "76e28f4e",
   "metadata": {},
   "outputs": [
    {
     "data": {
      "text/html": [
       "<div>\n",
       "<style scoped>\n",
       "    .dataframe tbody tr th:only-of-type {\n",
       "        vertical-align: middle;\n",
       "    }\n",
       "\n",
       "    .dataframe tbody tr th {\n",
       "        vertical-align: top;\n",
       "    }\n",
       "\n",
       "    .dataframe thead th {\n",
       "        text-align: right;\n",
       "    }\n",
       "</style>\n",
       "<table border=\"1\" class=\"dataframe\">\n",
       "  <thead>\n",
       "    <tr style=\"text-align: right;\">\n",
       "      <th></th>\n",
       "      <th>id</th>\n",
       "      <th>text</th>\n",
       "      <th>author</th>\n",
       "      <th>text_no_punctuation</th>\n",
       "      <th>text_stemming</th>\n",
       "      <th>text_lenght</th>\n",
       "      <th>text_word_count</th>\n",
       "      <th>text_avg_word_lenght</th>\n",
       "      <th>Topic_NMF</th>\n",
       "      <th>Topic_LED</th>\n",
       "    </tr>\n",
       "  </thead>\n",
       "  <tbody>\n",
       "    <tr>\n",
       "      <th>0</th>\n",
       "      <td>id26305</td>\n",
       "      <td>This process, however, afforded me no means of...</td>\n",
       "      <td>EAP</td>\n",
       "      <td>this process however afforded me no means of a...</td>\n",
       "      <td>process afford mean ascertain dimens dungeon c...</td>\n",
       "      <td>224</td>\n",
       "      <td>41</td>\n",
       "      <td>4.487805</td>\n",
       "      <td>0</td>\n",
       "      <td>0</td>\n",
       "    </tr>\n",
       "    <tr>\n",
       "      <th>1</th>\n",
       "      <td>id17569</td>\n",
       "      <td>It never once occurred to me that the fumbling...</td>\n",
       "      <td>HPL</td>\n",
       "      <td>it never once occurred to me that the fumbling...</td>\n",
       "      <td>occur fumbl mere mistak</td>\n",
       "      <td>70</td>\n",
       "      <td>14</td>\n",
       "      <td>4.071429</td>\n",
       "      <td>0</td>\n",
       "      <td>0</td>\n",
       "    </tr>\n",
       "    <tr>\n",
       "      <th>2</th>\n",
       "      <td>id11008</td>\n",
       "      <td>In his left hand was a gold snuff box, from wh...</td>\n",
       "      <td>EAP</td>\n",
       "      <td>in his left hand was a gold snuff box from whi...</td>\n",
       "      <td>left hand gold snuff box caper hill cut manner...</td>\n",
       "      <td>195</td>\n",
       "      <td>36</td>\n",
       "      <td>4.444444</td>\n",
       "      <td>8</td>\n",
       "      <td>8</td>\n",
       "    </tr>\n",
       "    <tr>\n",
       "      <th>3</th>\n",
       "      <td>id27763</td>\n",
       "      <td>How lovely is spring As we looked from Windsor...</td>\n",
       "      <td>MWS</td>\n",
       "      <td>how lovely is spring as we looked from windsor...</td>\n",
       "      <td>love spring look windsor terrac sixteen fertil...</td>\n",
       "      <td>202</td>\n",
       "      <td>34</td>\n",
       "      <td>4.970588</td>\n",
       "      <td>3</td>\n",
       "      <td>3</td>\n",
       "    </tr>\n",
       "    <tr>\n",
       "      <th>4</th>\n",
       "      <td>id12958</td>\n",
       "      <td>Finding nothing else, not even gold, the Super...</td>\n",
       "      <td>HPL</td>\n",
       "      <td>finding nothing else not even gold the superin...</td>\n",
       "      <td>find gold superintend abandon attempt perplex ...</td>\n",
       "      <td>170</td>\n",
       "      <td>27</td>\n",
       "      <td>5.333333</td>\n",
       "      <td>9</td>\n",
       "      <td>9</td>\n",
       "    </tr>\n",
       "  </tbody>\n",
       "</table>\n",
       "</div>"
      ],
      "text/plain": [
       "        id                                               text author  \\\n",
       "0  id26305  This process, however, afforded me no means of...    EAP   \n",
       "1  id17569  It never once occurred to me that the fumbling...    HPL   \n",
       "2  id11008  In his left hand was a gold snuff box, from wh...    EAP   \n",
       "3  id27763  How lovely is spring As we looked from Windsor...    MWS   \n",
       "4  id12958  Finding nothing else, not even gold, the Super...    HPL   \n",
       "\n",
       "                                 text_no_punctuation  \\\n",
       "0  this process however afforded me no means of a...   \n",
       "1  it never once occurred to me that the fumbling...   \n",
       "2  in his left hand was a gold snuff box from whi...   \n",
       "3  how lovely is spring as we looked from windsor...   \n",
       "4  finding nothing else not even gold the superin...   \n",
       "\n",
       "                                       text_stemming  text_lenght  \\\n",
       "0  process afford mean ascertain dimens dungeon c...          224   \n",
       "1                            occur fumbl mere mistak           70   \n",
       "2  left hand gold snuff box caper hill cut manner...          195   \n",
       "3  love spring look windsor terrac sixteen fertil...          202   \n",
       "4  find gold superintend abandon attempt perplex ...          170   \n",
       "\n",
       "   text_word_count  text_avg_word_lenght  Topic_NMF  Topic_LED  \n",
       "0               41              4.487805          0          0  \n",
       "1               14              4.071429          0          0  \n",
       "2               36              4.444444          8          8  \n",
       "3               34              4.970588          3          3  \n",
       "4               27              5.333333          9          9  "
      ]
     },
     "execution_count": 42,
     "metadata": {},
     "output_type": "execute_result"
    }
   ],
   "source": [
    "df.head()"
   ]
  },
  {
   "cell_type": "markdown",
   "id": "86810969",
   "metadata": {},
   "source": [
    "## DATA SPLIT"
   ]
  },
  {
   "cell_type": "code",
   "execution_count": 43,
   "id": "0c79a299",
   "metadata": {},
   "outputs": [],
   "source": [
    "from sklearn.model_selection import train_test_split"
   ]
  },
  {
   "cell_type": "code",
   "execution_count": 44,
   "id": "cc4b5ff5",
   "metadata": {},
   "outputs": [],
   "source": [
    "X_text = df[\"text_stemming\"]\n",
    "y = df['author']\n",
    "# test dataset\n",
    "X_text_test = Test[\"text_stemming\"]"
   ]
  },
  {
   "cell_type": "code",
   "execution_count": 45,
   "id": "5fa8a09c",
   "metadata": {},
   "outputs": [],
   "source": [
    "vectorize = TfidfVectorizer( max_df = 0.90, min_df = 1, stop_words='english', max_features =10744)\n"
   ]
  },
  {
   "cell_type": "code",
   "execution_count": 46,
   "id": "45654534",
   "metadata": {},
   "outputs": [],
   "source": [
    "X = vectorize.fit_transform(X_text)\n",
    "X_TEST = vectorize.fit_transform(X_text_test)"
   ]
  },
  {
   "cell_type": "code",
   "execution_count": 47,
   "id": "3de59024",
   "metadata": {},
   "outputs": [
    {
     "name": "stdout",
     "output_type": "stream",
     "text": [
      "the X_train data shape is (15663, 10744)  --> the y_train data shape is (15663,)\n",
      "the X_val data shape is (3916, 10744)  --> the y_val data shape is (3916,)\n",
      "The Test data set shape (8392, 10744)\n"
     ]
    }
   ],
   "source": [
    "X_train, X_val, y_train, y_val = train_test_split( X, y, test_size = .2, random_state =42)\n",
    "print(f\"the X_train data shape is {X_train.shape}  --> the y_train data shape is {y_train.shape}\")\n",
    "print(f\"the X_val data shape is {X_val.shape}  --> the y_val data shape is {y_val.shape}\")\n",
    "print(f\"The Test data set shape {X_TEST.shape}\")"
   ]
  },
  {
   "cell_type": "markdown",
   "id": "2e4cc292",
   "metadata": {},
   "source": [
    "## BaseLine "
   ]
  },
  {
   "cell_type": "code",
   "execution_count": 48,
   "id": "3412882f",
   "metadata": {},
   "outputs": [
    {
     "name": "stdout",
     "output_type": "stream",
     "text": [
      "the BaceLine accuracy is, 0.4035\n"
     ]
    }
   ],
   "source": [
    "print(f\"the BaceLine accuracy is, {round(y.value_counts(normalize=True).max(),4)}\")"
   ]
  },
  {
   "cell_type": "markdown",
   "id": "d32e1e2c",
   "metadata": {},
   "source": [
    "# Model"
   ]
  },
  {
   "cell_type": "markdown",
   "id": "17df867f",
   "metadata": {},
   "source": [
    "### Decision Tree Classifier"
   ]
  },
  {
   "cell_type": "code",
   "execution_count": 49,
   "id": "a63fb6f5",
   "metadata": {},
   "outputs": [],
   "source": [
    "from sklearn.tree import DecisionTreeClassifier"
   ]
  },
  {
   "cell_type": "code",
   "execution_count": 50,
   "id": "cb188c33",
   "metadata": {},
   "outputs": [
    {
     "data": {
      "text/plain": [
       "DecisionTreeClassifier(ccp_alpha=0.0, class_weight=None, criterion='gini',\n",
       "                       max_depth=None, max_features=None, max_leaf_nodes=None,\n",
       "                       min_impurity_decrease=0.0, min_impurity_split=None,\n",
       "                       min_samples_leaf=1, min_samples_split=2,\n",
       "                       min_weight_fraction_leaf=0.0, presort='deprecated',\n",
       "                       random_state=None, splitter='best')"
      ]
     },
     "execution_count": 50,
     "metadata": {},
     "output_type": "execute_result"
    }
   ],
   "source": [
    "DCTree_model = DecisionTreeClassifier()\n",
    "\n",
    "# Fit the logistic Regression model\n",
    "DCTree_model.fit(X_train, y_train)\n"
   ]
  },
  {
   "cell_type": "code",
   "execution_count": 51,
   "id": "d096bb15",
   "metadata": {},
   "outputs": [
    {
     "name": "stdout",
     "output_type": "stream",
     "text": [
      "the training accuracy is 0.9983400370299432\n",
      "the val accuracy is 0.6138917262512769\n"
     ]
    }
   ],
   "source": [
    "# classification score\n",
    "print(f\"the training accuracy is {DCTree_model.score(X_train, y_train)}\")\n",
    "print(f\"the val accuracy is {DCTree_model.score(X_val, y_val)}\")"
   ]
  },
  {
   "cell_type": "markdown",
   "id": "82baebf0",
   "metadata": {},
   "source": [
    "#### Cross_valadation"
   ]
  },
  {
   "cell_type": "code",
   "execution_count": 52,
   "id": "f6f2c109",
   "metadata": {},
   "outputs": [],
   "source": [
    "from sklearn.model_selection import cross_val_score"
   ]
  },
  {
   "cell_type": "code",
   "execution_count": 53,
   "id": "6af54de4",
   "metadata": {},
   "outputs": [
    {
     "name": "stdout",
     "output_type": "stream",
     "text": [
      "the mean acuracy score is  0.6102967815831046\n"
     ]
    }
   ],
   "source": [
    "result = cross_val_score(DCTree_model, X, y, cv=5, n_jobs=-2, scoring='accuracy')\n",
    "# calculate the mean of the scores\n",
    "estimate = result.mean()\n",
    "\n",
    "print(\"the mean acuracy score is \",estimate)"
   ]
  },
  {
   "cell_type": "markdown",
   "id": "6a8129cc",
   "metadata": {},
   "source": [
    "From the Training accuracy we see that the model if overfitting. we see that our model is better than our baseline accuracy"
   ]
  },
  {
   "cell_type": "markdown",
   "id": "6d85d69b",
   "metadata": {},
   "source": [
    "#### Cross_valadation"
   ]
  },
  {
   "cell_type": "code",
   "execution_count": 54,
   "id": "476ee32d",
   "metadata": {},
   "outputs": [
    {
     "name": "stdout",
     "output_type": "stream",
     "text": [
      "              precision    recall  f1-score   support\n",
      "\n",
      "         EAP       0.64      0.63      0.64      1570\n",
      "         HPL       0.56      0.58      0.57      1071\n",
      "         MWS       0.63      0.62      0.62      1275\n",
      "\n",
      "    accuracy                           0.61      3916\n",
      "   macro avg       0.61      0.61      0.61      3916\n",
      "weighted avg       0.61      0.61      0.61      3916\n",
      "\n"
     ]
    },
    {
     "data": {
      "image/png": "[encoded data removed]",
      "text/plain": [
       "<Figure size 432x288 with 2 Axes>"
      ]
     },
     "metadata": {
      "needs_background": "light"
     },
     "output_type": "display_data"
    }
   ],
   "source": [
    "print(classification_report(y_val, DCTree_model.predict(X_val)))\n",
    "plot_confusion_matrix(DCTree_model, X_val, y_val, values_format = '.0f',)\n",
    "plt.show()"
   ]
  },
  {
   "cell_type": "markdown",
   "id": "9cdab1e1",
   "metadata": {},
   "source": [
    "### Random Forest"
   ]
  },
  {
   "cell_type": "code",
   "execution_count": 55,
   "id": "62487569",
   "metadata": {},
   "outputs": [],
   "source": [
    "from sklearn.ensemble import RandomForestClassifier"
   ]
  },
  {
   "cell_type": "code",
   "execution_count": 56,
   "id": "f2e13ff4",
   "metadata": {},
   "outputs": [
    {
     "data": {
      "text/plain": [
       "RandomForestClassifier(bootstrap=True, ccp_alpha=0.0, class_weight=None,\n",
       "                       criterion='gini', max_depth=None, max_features='auto',\n",
       "                       max_leaf_nodes=None, max_samples=None,\n",
       "                       min_impurity_decrease=0.0, min_impurity_split=None,\n",
       "                       min_samples_leaf=1, min_samples_split=2,\n",
       "                       min_weight_fraction_leaf=0.0, n_estimators=100,\n",
       "                       n_jobs=None, oob_score=False, random_state=None,\n",
       "                       verbose=0, warm_start=False)"
      ]
     },
     "execution_count": 56,
     "metadata": {},
     "output_type": "execute_result"
    }
   ],
   "source": [
    "RF_model = RandomForestClassifier()\n",
    "\n",
    "RF_model.fit(X_train, y_train)"
   ]
  },
  {
   "cell_type": "code",
   "execution_count": 57,
   "id": "e1f17edd",
   "metadata": {},
   "outputs": [
    {
     "name": "stdout",
     "output_type": "stream",
     "text": [
      "the training accuracy is 0.9983400370299432\n",
      "the val accuracy is 0.7055669050051072\n"
     ]
    }
   ],
   "source": [
    "# classification score\n",
    "print(f\"the training accuracy is {RF_model.score(X_train, y_train)}\")\n",
    "print(f\"the val accuracy is {RF_model.score(X_val, y_val)}\")"
   ]
  },
  {
   "cell_type": "markdown",
   "id": "730e8445",
   "metadata": {},
   "source": [
    "we can see that random forest did better but there is still and overfitting"
   ]
  },
  {
   "cell_type": "markdown",
   "id": "406b6a92",
   "metadata": {},
   "source": [
    "#### Cross_valadation"
   ]
  },
  {
   "cell_type": "code",
   "execution_count": 58,
   "id": "29aba515",
   "metadata": {},
   "outputs": [
    {
     "name": "stdout",
     "output_type": "stream",
     "text": [
      "the mean acuracy score is  0.7111703630649775\n"
     ]
    }
   ],
   "source": [
    "result = cross_val_score(RF_model, X, y, cv=5, n_jobs=-2, scoring='accuracy')\n",
    "# calculate the mean of the scores\n",
    "estimate = result.mean()\n",
    "\n",
    "print(\"the mean acuracy score is \",estimate)"
   ]
  },
  {
   "cell_type": "markdown",
   "id": "0190012e",
   "metadata": {},
   "source": [
    "#### confusion matrix"
   ]
  },
  {
   "cell_type": "code",
   "execution_count": 59,
   "id": "44d8b55d",
   "metadata": {},
   "outputs": [
    {
     "name": "stdout",
     "output_type": "stream",
     "text": [
      "              precision    recall  f1-score   support\n",
      "\n",
      "         EAP       0.69      0.77      0.73      1570\n",
      "         HPL       0.69      0.67      0.68      1071\n",
      "         MWS       0.74      0.65      0.69      1275\n",
      "\n",
      "    accuracy                           0.71      3916\n",
      "   macro avg       0.71      0.70      0.70      3916\n",
      "weighted avg       0.71      0.71      0.70      3916\n",
      "\n"
     ]
    },
    {
     "data": {
      "image/png": "[encoded data removed]",
      "text/plain": [
       "<Figure size 432x288 with 2 Axes>"
      ]
     },
     "metadata": {
      "needs_background": "light"
     },
     "output_type": "display_data"
    }
   ],
   "source": [
    "print(classification_report(y_val, RF_model.predict(X_val)))\n",
    "plot_confusion_matrix(RF_model, X_val, y_val,values_format = '.0f')\n",
    "plt.show()"
   ]
  },
  {
   "cell_type": "markdown",
   "id": "ce0fd788",
   "metadata": {},
   "source": [
    "## XGBoost"
   ]
  },
  {
   "cell_type": "code",
   "execution_count": 60,
   "id": "004e48ce",
   "metadata": {},
   "outputs": [],
   "source": [
    "from xgboost import XGBClassifier"
   ]
  },
  {
   "cell_type": "code",
   "execution_count": 61,
   "id": "927fa3bd",
   "metadata": {},
   "outputs": [
    {
     "name": "stderr",
     "output_type": "stream",
     "text": [
      "C:\\Users\\mosae\\anaconda3\\lib\\site-packages\\xgboost\\sklearn.py:1146: UserWarning: The use of label encoder in XGBClassifier is deprecated and will be removed in a future release. To remove this warning, do the following: 1) Pass option use_label_encoder=False when constructing XGBClassifier object; and 2) Encode your labels (y) as integers starting with 0, i.e. 0, 1, 2, ..., [num_class - 1].\n",
      "  warnings.warn(label_encoder_deprecation_msg, UserWarning)\n"
     ]
    },
    {
     "name": "stdout",
     "output_type": "stream",
     "text": [
      "[16:31:02] WARNING: C:/Users/Administrator/workspace/xgboost-win64_release_1.4.0/src/learner.cc:1095: Starting in XGBoost 1.3.0, the default evaluation metric used with the objective 'multi:softprob' was changed from 'merror' to 'mlogloss'. Explicitly set eval_metric if you'd like to restore the old behavior.\n"
     ]
    },
    {
     "data": {
      "text/plain": [
       "XGBClassifier(base_score=0.5, booster='gbtree', colsample_bylevel=1,\n",
       "              colsample_bynode=1, colsample_bytree=1, gamma=0, gpu_id=-1,\n",
       "              importance_type='gain', interaction_constraints='',\n",
       "              learning_rate=0.300000012, max_delta_step=0, max_depth=6,\n",
       "              min_child_weight=1, missing=nan, monotone_constraints='()',\n",
       "              n_estimators=100, n_jobs=12, num_parallel_tree=1,\n",
       "              objective='multi:softprob', random_state=0, reg_alpha=0,\n",
       "              reg_lambda=1, scale_pos_weight=None, subsample=1,\n",
       "              tree_method='exact', use_label_encoder=True,\n",
       "              validate_parameters=1, verbosity=None)"
      ]
     },
     "execution_count": 61,
     "metadata": {},
     "output_type": "execute_result"
    }
   ],
   "source": [
    "XGB_model = XGBClassifier()\n",
    "\n",
    "XGB_model.fit(X_train, y_train)"
   ]
  },
  {
   "cell_type": "code",
   "execution_count": 62,
   "id": "57f74a63",
   "metadata": {},
   "outputs": [
    {
     "name": "stdout",
     "output_type": "stream",
     "text": [
      "the training accuracy is 0.7962714677903339\n",
      "the val accuracy is 0.6933094994892748\n"
     ]
    }
   ],
   "source": [
    "# classification score\n",
    "print(f\"the training accuracy is {XGB_model.score(X_train, y_train)}\")\n",
    "print(f\"the val accuracy is {XGB_model.score(X_val, y_val)}\")"
   ]
  },
  {
   "cell_type": "markdown",
   "id": "ec29914e",
   "metadata": {},
   "source": [
    "#### Cross_valadation"
   ]
  },
  {
   "cell_type": "code",
   "execution_count": 63,
   "id": "60f3bfba",
   "metadata": {},
   "outputs": [
    {
     "name": "stdout",
     "output_type": "stream",
     "text": [
      "the mean acuracy score is  0.698963456076978\n"
     ]
    }
   ],
   "source": [
    "result = cross_val_score(XGB_model, X, y, cv=5, n_jobs=-2, scoring='accuracy')\n",
    "# calculate the mean of the scores\n",
    "estimate = result.mean()\n",
    "\n",
    "print(\"the mean acuracy score is \",estimate)"
   ]
  },
  {
   "cell_type": "markdown",
   "id": "cf4dacff",
   "metadata": {},
   "source": [
    "#### confusion matrix"
   ]
  },
  {
   "cell_type": "code",
   "execution_count": 64,
   "id": "a04aee88",
   "metadata": {},
   "outputs": [
    {
     "name": "stdout",
     "output_type": "stream",
     "text": [
      "              precision    recall  f1-score   support\n",
      "\n",
      "         EAP       0.62      0.86      0.72      1570\n",
      "         HPL       0.75      0.59      0.66      1071\n",
      "         MWS       0.80      0.57      0.67      1275\n",
      "\n",
      "    accuracy                           0.69      3916\n",
      "   macro avg       0.73      0.67      0.68      3916\n",
      "weighted avg       0.72      0.69      0.69      3916\n",
      "\n"
     ]
    },
    {
     "data": {
      "image/png": "[encoded data removed]",
      "text/plain": [
       "<Figure size 432x288 with 2 Axes>"
      ]
     },
     "metadata": {
      "needs_background": "light"
     },
     "output_type": "display_data"
    }
   ],
   "source": [
    "print(classification_report(y_val, XGB_model.predict(X_val)))\n",
    "plot_confusion_matrix(XGB_model, X_val, y_val,values_format = '.0f',)\n",
    "plt.show()"
   ]
  },
  {
   "cell_type": "markdown",
   "id": "1c7543fc",
   "metadata": {},
   "source": [
    "### To predict the author of the test dataset i would use the XGBoost model eventhough it's not the model with highest accuracy, it have 69.89% accuracy but it have the least overfitting "
   ]
  },
  {
   "cell_type": "markdown",
   "id": "5cb25f83",
   "metadata": {},
   "source": [
    "# TEST DATASET PREDICTION"
   ]
  },
  {
   "cell_type": "markdown",
   "id": "9609b142",
   "metadata": {},
   "source": [
    "### XGBoost Predicting"
   ]
  },
  {
   "cell_type": "code",
   "execution_count": 65,
   "id": "aecefce3",
   "metadata": {},
   "outputs": [],
   "source": [
    "y_test_pred = XGB_model.predict(X_TEST)\n",
    "submission = pd.DataFrame({'author':y_test_pred})"
   ]
  },
  {
   "cell_type": "code",
   "execution_count": 66,
   "id": "7d102885",
   "metadata": {},
   "outputs": [
    {
     "data": {
      "text/html": [
       "<div>\n",
       "<style scoped>\n",
       "    .dataframe tbody tr th:only-of-type {\n",
       "        vertical-align: middle;\n",
       "    }\n",
       "\n",
       "    .dataframe tbody tr th {\n",
       "        vertical-align: top;\n",
       "    }\n",
       "\n",
       "    .dataframe thead th {\n",
       "        text-align: right;\n",
       "    }\n",
       "</style>\n",
       "<table border=\"1\" class=\"dataframe\">\n",
       "  <thead>\n",
       "    <tr style=\"text-align: right;\">\n",
       "      <th></th>\n",
       "      <th>id</th>\n",
       "      <th>text</th>\n",
       "      <th>text_no_punctuation</th>\n",
       "      <th>text_stemming</th>\n",
       "      <th>author</th>\n",
       "    </tr>\n",
       "  </thead>\n",
       "  <tbody>\n",
       "    <tr>\n",
       "      <th>0</th>\n",
       "      <td>id02310</td>\n",
       "      <td>Still, as I urged our leaving Ireland with suc...</td>\n",
       "      <td>still as i urged our leaving ireland with such...</td>\n",
       "      <td>urg leav ireland inquietud impati father thoug...</td>\n",
       "      <td>EAP</td>\n",
       "    </tr>\n",
       "    <tr>\n",
       "      <th>1</th>\n",
       "      <td>id24541</td>\n",
       "      <td>If a fire wanted fanning, it could readily be ...</td>\n",
       "      <td>if a fire wanted fanning it could readily be f...</td>\n",
       "      <td>fire want fan readili fan newspap govern grew ...</td>\n",
       "      <td>EAP</td>\n",
       "    </tr>\n",
       "    <tr>\n",
       "      <th>2</th>\n",
       "      <td>id00134</td>\n",
       "      <td>And when they had broken down the frail door t...</td>\n",
       "      <td>and when they had broken down the frail door t...</td>\n",
       "      <td>broken frail door found clean pick human skele...</td>\n",
       "      <td>EAP</td>\n",
       "    </tr>\n",
       "    <tr>\n",
       "      <th>3</th>\n",
       "      <td>id27757</td>\n",
       "      <td>While I was thinking how I should possibly man...</td>\n",
       "      <td>while i was thinking how i should possibly man...</td>\n",
       "      <td>think possibl manag actual tumbl head roll ste...</td>\n",
       "      <td>EAP</td>\n",
       "    </tr>\n",
       "    <tr>\n",
       "      <th>4</th>\n",
       "      <td>id04081</td>\n",
       "      <td>I am not sure to what limit his knowledge may ...</td>\n",
       "      <td>i am not sure to what limit his knowledge may ...</td>\n",
       "      <td>sure limit knowledg extend</td>\n",
       "      <td>EAP</td>\n",
       "    </tr>\n",
       "  </tbody>\n",
       "</table>\n",
       "</div>"
      ],
      "text/plain": [
       "        id                                               text  \\\n",
       "0  id02310  Still, as I urged our leaving Ireland with suc...   \n",
       "1  id24541  If a fire wanted fanning, it could readily be ...   \n",
       "2  id00134  And when they had broken down the frail door t...   \n",
       "3  id27757  While I was thinking how I should possibly man...   \n",
       "4  id04081  I am not sure to what limit his knowledge may ...   \n",
       "\n",
       "                                 text_no_punctuation  \\\n",
       "0  still as i urged our leaving ireland with such...   \n",
       "1  if a fire wanted fanning it could readily be f...   \n",
       "2  and when they had broken down the frail door t...   \n",
       "3  while i was thinking how i should possibly man...   \n",
       "4  i am not sure to what limit his knowledge may ...   \n",
       "\n",
       "                                       text_stemming author  \n",
       "0  urg leav ireland inquietud impati father thoug...    EAP  \n",
       "1  fire want fan readili fan newspap govern grew ...    EAP  \n",
       "2  broken frail door found clean pick human skele...    EAP  \n",
       "3  think possibl manag actual tumbl head roll ste...    EAP  \n",
       "4                         sure limit knowledg extend    EAP  "
      ]
     },
     "execution_count": 66,
     "metadata": {},
     "output_type": "execute_result"
    }
   ],
   "source": [
    "new_test_df = Test.join(submission)\n",
    "new_test_df.head()"
   ]
  }
 ],
 "metadata": {
  "kernelspec": {
   "display_name": "Python 3",
   "language": "python",
   "name": "python3"
  },
  "language_info": {
   "codemirror_mode": {
    "name": "ipython",
    "version": 3
   },
   "file_extension": ".py",
   "mimetype": "text/x-python",
   "name": "python",
   "nbconvert_exporter": "python",
   "pygments_lexer": "ipython3",
   "version": "3.8.8"
  }
 },
 "nbformat": 4,
 "nbformat_minor": 5
}
